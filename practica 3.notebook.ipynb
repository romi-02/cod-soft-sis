{
 "cells": [
  {
   "cell_type": "code",
   "execution_count": 15,
   "id": "b6264345-d489-41bd-a127-1caf8411497e",
   "metadata": {},
   "outputs": [
    {
     "name": "stdin",
     "output_type": "stream",
     "text": [
      "ingresa el valor de la hora que quieres consultar 8\n"
     ]
    },
    {
     "name": "stdout",
     "output_type": "stream",
     "text": [
      "la hora en las siguientes ciudades seria\n",
      "la hora en dublin es  14\n",
      "la hora en londres es  15\n",
      "la hora en tokio es  23\n",
      "la hora en los angeles es  6\n",
      "la hora en nueva york es  6\n",
      "la hora en nueva deli es  19.3\n"
     ]
    }
   ],
   "source": [
    "dublin= +6\n",
    "londres= +7\n",
    "tokio= +15\n",
    "los_angeles= -2\n",
    "nueva_york= -2\n",
    "nueva_deli= +11.3\n",
    "hora_mexico = input(\"ingresa el valor de la hora que quieres consultar\")\n",
    "hora_mexico=int(hora_mexico)\n",
    "print(\"la hora en las siguientes ciudades seria\")\n",
    "print(\"la hora en dublin es \" ,hora_mexico+dublin)\n",
    "print(\"la hora en londres es \" ,hora_mexico+londres)\n",
    "print(\"la hora en tokio es \" ,hora_mexico+tokio)\n",
    "print(\"la hora en los angeles es \" ,hora_mexico+los_angeles)\n",
    "print(\"la hora en nueva york es \" ,hora_mexico+nueva_york)\n",
    "print(\"la hora en nueva deli es \" ,hora_mexico+nueva_deli)\n"
   ]
  }
 ],
 "metadata": {
  "kernelspec": {
   "display_name": "Python [conda env:base] *",
   "language": "python",
   "name": "conda-base-py"
  },
  "language_info": {
   "codemirror_mode": {
    "name": "ipython",
    "version": 3
   },
   "file_extension": ".py",
   "mimetype": "text/x-python",
   "name": "python",
   "nbconvert_exporter": "python",
   "pygments_lexer": "ipython3",
   "version": "3.12.7"
  }
 },
 "nbformat": 4,
 "nbformat_minor": 5
}
